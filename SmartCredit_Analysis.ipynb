{
 "cells": [
  {
   "cell_type": "markdown",
   "id": "1604f0ab",
   "metadata": {},
   "source": [
    "# Project Objective: Trend Analysis in Credit Card Origination\n",
    "\n",
    "The first part of this project aims to perform a comprehensive trend analysis of the credit card origination market. Specifically, it examines the number and volume of credit cards originated over time, offering insights into consumer demand and financial institutions' lending behaviors. By analyzing these trends, the project seeks to understand the market dynamics, including significant periods of growth or decline, and potential external factors influencing these trends. This analysis is particularly relevant for financial companies like Affirm, where understanding consumer credit behaviors and market trends is essential for optimizing debt funding strategies and predicting loan performance.\n",
    "\n",
    "# Project Summary\n",
    "\n",
    "This project analyzes trends in the number and volume of credit cards originated over time to gain insights into consumer borrowing behaviors and the broader credit card market. By understanding these trends, we aim to assess potential implications for Affirm’s debt funding strategies, particularly how changes in consumer credit demand might influence the structuring and pricing of debt funding deals. This analysis is crucial for optimizing funding strategies and predicting the performance of Affirm's consumer loans, aligning with the responsibilities of the Quantitative Markets team at Affirm.\n"
   ]
  },
  {
   "cell_type": "markdown",
   "id": "b4a51bb0",
   "metadata": {},
   "source": [
    "## Data Exploration\n",
    "The first step is to load the data with Pandas"
   ]
  },
  {
   "cell_type": "code",
   "execution_count": 1,
   "id": "9540d838",
   "metadata": {},
   "outputs": [
    {
     "name": "stdout",
     "output_type": "stream",
     "text": [
      "Lending Number Cards Originated\n",
      "   month     date           num  num_unadj\n",
      "0     60  2005-01  6.481282e+06    5694944\n",
      "1     61  2005-02  6.615296e+06    5622580\n",
      "2     62  2005-03  6.611764e+06    6635412\n",
      "3     63  2005-04  6.435489e+06    6147368\n",
      "4     64  2005-05  6.379248e+06    6261976\n",
      "\n",
      "Lending Volume Cards Originated\n",
      "   month     date           vol    vol_unadj\n",
      "0     60  2005-01  3.688235e+10  31966116768\n",
      "1     61  2005-02  3.735492e+10  32164658096\n",
      "2     62  2005-03  3.780124e+10  38639133120\n",
      "3     63  2005-04  3.740718e+10  36942943824\n",
      "4     64  2005-05  3.757479e+10  37159317075\n",
      "\n",
      "year-over-year changes\n",
      "   month     date   yoy_num   yoy_vol\n",
      "0     72  2006-01  0.066307  0.013284\n",
      "1     73  2006-02  0.182244  0.186565\n",
      "2     74  2006-03  0.049505 -0.047434\n",
      "3     75  2006-04  0.039527 -0.061874\n",
      "4     76  2006-05  0.090489 -0.009747\n",
      "\n",
      "Geographic changes\n",
      "   fips_code state_abbr     value\n",
      "0          1         AL  0.090446\n",
      "1          2         AK  0.069472\n",
      "2          4         AZ  0.080640\n",
      "3          5         AR -0.067142\n",
      "4          6         CA -0.056740\n"
     ]
    }
   ],
   "source": [
    "import pandas as pd\n",
    "\n",
    "# Defining the path to the files\n",
    "\n",
    "file_path = r'C:\\Users\\berli\\Desktop\\Projects for Portfolio Data Analyst\\3-SmartCredit Trends Analysis\\\\'\n",
    "\n",
    "# Load the datasets\n",
    "lending_number_cards_originated = pd.read_csv(file_path + 'lending_number_cards_originated.csv')\n",
    "lending_volume_cards_originated = pd.read_csv(file_path + 'lending_volume_cards_originated.csv')\n",
    "yoy_data_all_CRC = pd.read_csv(file_path + 'yoy_data_all_CRC.csv')\n",
    "Geographic_data_CRC = pd.read_csv(file_path + 'Geographic_data_CRC.csv')\n",
    "\n",
    "#Displaying the first raws of each dataset\n",
    "print('Lending Number Cards Originated')\n",
    "print(lending_number_cards_originated.head())\n",
    "\n",
    "print('\\nLending Volume Cards Originated')\n",
    "print(lending_volume_cards_originated.head())\n",
    "\n",
    "print('\\nyear-over-year changes')\n",
    "print(yoy_data_all_CRC.head())\n",
    "\n",
    "print('\\nGeographic changes')\n",
    "print(Geographic_data_CRC.head())"
   ]
  },
  {
   "cell_type": "markdown",
   "id": "639dce47",
   "metadata": {},
   "source": [
    "### After loading the Data we will inspect Data Quality by:\n",
    "- Understanding Data Structure: Reviewing column names and data types to  understand the dataset structure.\n",
    "- Checking the datatypes\n",
    "- Summary Statistcis: Generating summary statistics to get an overview of the data."
   ]
  },
  {
   "cell_type": "markdown",
   "id": "58014228",
   "metadata": {},
   "source": [
    "### Exploring the Data"
   ]
  },
  {
   "cell_type": "code",
   "execution_count": 2,
   "id": "2c71583b",
   "metadata": {},
   "outputs": [
    {
     "name": "stdout",
     "output_type": "stream",
     "text": [
      "Datatypes for Lending Number Cards Originated:\n",
      " month          int64\n",
      "date          object\n",
      "num          float64\n",
      "num_unadj      int64\n",
      "dtype: object\n",
      "\n",
      "Datatypes for Lending Volume Cards Originated:\n",
      " month          int64\n",
      "date          object\n",
      "vol          float64\n",
      "vol_unadj      int64\n",
      "dtype: object\n",
      "\n",
      "Datatypes for year-over-year:\n",
      " month        int64\n",
      "date        object\n",
      "yoy_num    float64\n",
      "yoy_vol    float64\n",
      "dtype: object\n",
      "\n",
      "Datatypes for Geographic changes:\n",
      " fips_code       int64\n",
      "state_abbr     object\n",
      "value         float64\n",
      "dtype: object\n"
     ]
    }
   ],
   "source": [
    "#Checking the datatypes for each dataset\n",
    "print('Datatypes for Lending Number Cards Originated:\\n', lending_number_cards_originated.dtypes)\n",
    "print('\\nDatatypes for Lending Volume Cards Originated:\\n', lending_volume_cards_originated.dtypes)\n",
    "print('\\nDatatypes for year-over-year:\\n', yoy_data_all_CRC.dtypes)\n",
    "print('\\nDatatypes for Geographic changes:\\n', Geographic_data_CRC.dtypes)"
   ]
  },
  {
   "cell_type": "code",
   "execution_count": 7,
   "id": "1251f8e4",
   "metadata": {},
   "outputs": [
    {
     "name": "stdout",
     "output_type": "stream",
     "text": [
      "Summary Stats for Lending Number Cards Originated:\n",
      "            month           num     num_unadj\n",
      "count  172.000000  1.720000e+02  1.720000e+02\n",
      "mean   145.500000  5.393096e+06  5.380699e+06\n",
      "std     49.796252  1.175928e+06  1.218204e+06\n",
      "min     60.000000  3.307686e+06  2.843892e+06\n",
      "25%    102.750000  4.383488e+06  4.369581e+06\n",
      "50%    145.500000  5.483961e+06  5.406898e+06\n",
      "75%    188.250000  6.338291e+06  6.205012e+06\n",
      "max    231.000000  8.209921e+06  8.078244e+06\n",
      "\n",
      "Summary Stats for Lending Volume Cards Originated:\n",
      "            month           vol     vol_unadj\n",
      "count  172.000000  1.720000e+02  1.720000e+02\n",
      "mean   145.500000  2.967899e+10  2.963002e+10\n",
      "std     49.796252  7.773349e+09  7.899583e+09\n",
      "min     60.000000  1.510426e+10  1.348880e+10\n",
      "25%    102.750000  2.241365e+10  2.268884e+10\n",
      "50%    145.500000  3.237800e+10  3.151846e+10\n",
      "75%    188.250000  3.580150e+10  3.577935e+10\n",
      "max    231.000000  4.444884e+10  4.575501e+10\n",
      "\n",
      "Summary Stats for year-over-year changes:\n",
      "           month     yoy_num     yoy_vol\n",
      "count  164.00000  160.000000  160.000000\n",
      "mean   153.50000    0.004469    0.015336\n",
      "std     47.48684    0.153671    0.186864\n",
      "min     72.00000   -0.503061   -0.632506\n",
      "25%    112.75000   -0.047619   -0.049220\n",
      "50%    153.50000    0.042184    0.043162\n",
      "75%    194.25000    0.103959    0.147418\n",
      "max    235.00000    0.245319    0.309888\n",
      "\n",
      "Summary Stats for Geographic changes:\n",
      "       fips_code      value\n",
      "count  51.000000  51.000000\n",
      "mean   28.960784  -0.008792\n",
      "std    15.832828   0.139631\n",
      "min     1.000000  -0.326730\n",
      "25%    16.500000  -0.089253\n",
      "50%    29.000000  -0.001206\n",
      "75%    41.500000   0.070690\n",
      "max    56.000000   0.329715\n"
     ]
    }
   ],
   "source": [
    "#Summary Statistcis before checking if there are missing values\n",
    "print('Summary Stats for Lending Number Cards Originated:\\n' + str(lending_number_cards_originated.describe()))\n",
    "print('\\nSummary Stats for Lending Volume Cards Originated:\\n' + str(lending_volume_cards_originated.describe()))\n",
    "print('\\nSummary Stats for year-over-year changes:\\n' + str(yoy_data_all_CRC.describe()))\n",
    "print('\\nSummary Stats for Geographic changes:\\n' + str(Geographic_data_CRC.describe()))"
   ]
  },
  {
   "cell_type": "markdown",
   "id": "a26b8708",
   "metadata": {},
   "source": [
    "### Checking for missing values"
   ]
  },
  {
   "cell_type": "code",
   "execution_count": 3,
   "id": "e0c5e78f",
   "metadata": {},
   "outputs": [
    {
     "name": "stdout",
     "output_type": "stream",
     "text": [
      "Missing values in Lending Number Cards Originated:\n",
      "month        0\n",
      "date         0\n",
      "num          0\n",
      "num_unadj    0\n",
      "dtype: int64\n",
      "\n",
      "Missing values in Lending Volume Cards Originated:\n",
      "month        0\n",
      "date         0\n",
      "vol          0\n",
      "vol_unadj    0\n",
      "dtype: int64\n",
      "\n",
      "Missing values in year-over-year changes:\n",
      "month      0\n",
      "date       0\n",
      "yoy_num    4\n",
      "yoy_vol    4\n",
      "dtype: int64\n",
      "\n",
      "Missing values in Geographic changes:\n",
      "fips_code     0\n",
      "state_abbr    0\n",
      "value         0\n",
      "dtype: int64\n"
     ]
    }
   ],
   "source": [
    "#Checking for missing values and Understanding Data Structure\n",
    "print('Missing values in Lending Number Cards Originated:\\n' + str(lending_number_cards_originated.isnull().sum()))\n",
    "print('\\nMissing values in Lending Volume Cards Originated:\\n' + str(lending_volume_cards_originated.isnull().sum()))\n",
    "print('\\nMissing values in year-over-year changes:\\n' + str(yoy_data_all_CRC.isnull().sum()))\n",
    "print('\\nMissing values in Geographic changes:\\n' + str( Geographic_data_CRC.isnull().sum()))"
   ]
  },
  {
   "cell_type": "markdown",
   "id": "ab67410e",
   "metadata": {},
   "source": [
    "### Cleaning the Data\n",
    "After checking for the existance of missing values we can observe that in the data for year-over-year there are 4 values missing in the columns yoy_num and yoy_vol. We will calculate the percentage that that missing data represents for the year-over-year dataframe to make an informed decision on how to handle it.\n",
    "\n",
    "For the cleaning data stage we will follow the steps bellow:\n",
    "- Calculate the percentage of missing data\n",
    "- Handle the missing values \n",
    "- Compare the Summary Stats before and after handling the missing values\n",
    "- Convert date columns from object to a datetime format "
   ]
  },
  {
   "cell_type": "code",
   "execution_count": 4,
   "id": "9c8fe245",
   "metadata": {},
   "outputs": [
    {
     "name": "stdout",
     "output_type": "stream",
     "text": [
      "Percentage of missing data in yoy_num:  2.44%\n",
      "Percentage of missing data in yoy_vol:  2.44%\n"
     ]
    }
   ],
   "source": [
    "#Calculating the percentage of missing data for columns yoy_num and yoy_vol in year-over-year\n",
    "missing_percentage_yoy_num = yoy_data_all_CRC['yoy_num'].isnull().sum()/len(yoy_data_all_CRC)*100\n",
    "missing_percentage_yoy_vol = yoy_data_all_CRC['yoy_vol'].isnull().sum()/len(yoy_data_all_CRC)*100\n",
    "\n",
    "print(f'Percentage of missing data in yoy_num: {missing_percentage_yoy_num: .2f}%')\n",
    "print(f'Percentage of missing data in yoy_vol: {missing_percentage_yoy_vol: .2f}%')"
   ]
  },
  {
   "cell_type": "markdown",
   "id": "3193a96f",
   "metadata": {},
   "source": [
    "After calculating the percentage it shows that the missing data represents the 2.44% of the whole dataset, which is really small. However, to go closer on the impact of this missing data and do the best informed decision, we will calcuate the Summary Statistics in both different ways; 1-by ignoring the missing values and 2-by imputing the missing values with the mean to compare the both summary statistics (Mean imputation was chosen for its simplicity and effectiveness in handling moderate amounts of missing data)."
   ]
  },
  {
   "cell_type": "code",
   "execution_count": 5,
   "id": "45f2f698",
   "metadata": {},
   "outputs": [
    {
     "name": "stdout",
     "output_type": "stream",
     "text": [
      "Missing values after imputation for the year-over-year dataset:\n",
      " month      0\n",
      "date       0\n",
      "yoy_num    0\n",
      "yoy_vol    0\n",
      "dtype: int64\n"
     ]
    }
   ],
   "source": [
    "#Checking the fillna process\n",
    "yoy_num_mean = yoy_data_all_CRC['yoy_num'].mean()\n",
    "yoy_vol_mean = yoy_data_all_CRC['yoy_vol'].mean()\n",
    "\n",
    "yoy_data_all_CRC_imputed = yoy_data_all_CRC.fillna({\n",
    "    'yoy_num' : yoy_num_mean,\n",
    "    'yoy_vol' : yoy_vol_mean\n",
    "})\n",
    "\n",
    "print('Missing values after imputation for the year-over-year dataset:\\n', yoy_data_all_CRC_imputed.isnull().sum())"
   ]
  },
  {
   "cell_type": "code",
   "execution_count": 6,
   "id": "d96d0454",
   "metadata": {},
   "outputs": [
    {
     "name": "stdout",
     "output_type": "stream",
     "text": [
      "\n",
      "Summary Stats for year-over-year changes before imputation:\n",
      "           month     yoy_num     yoy_vol\n",
      "count  164.00000  160.000000  160.000000\n",
      "mean   153.50000    0.004469    0.015336\n",
      "std     47.48684    0.153671    0.186864\n",
      "min     72.00000   -0.503061   -0.632506\n",
      "25%    112.75000   -0.047619   -0.049220\n",
      "50%    153.50000    0.042184    0.043162\n",
      "75%    194.25000    0.103959    0.147418\n",
      "max    235.00000    0.245319    0.309888\n",
      "\n",
      "Summary Stats for year-over-year changes after imputation:\n",
      "           month     yoy_num     yoy_vol\n",
      "count  164.00000  164.000000  164.000000\n",
      "mean   153.50000    0.004469    0.015336\n",
      "std     47.48684    0.151774    0.184557\n",
      "min     72.00000   -0.503061   -0.632506\n",
      "25%    112.75000   -0.045674   -0.047864\n",
      "50%    153.50000    0.038975    0.039287\n",
      "75%    194.25000    0.099907    0.140829\n",
      "max    235.00000    0.245319    0.309888\n"
     ]
    }
   ],
   "source": [
    "#Summary statistics by ignoring the missing values\n",
    "print('\\nSummary Stats for year-over-year changes before imputation:\\n' + str(yoy_data_all_CRC.describe()))\n",
    "\n",
    "#Summary statistics after imputing the missing values with the mean\n",
    "print('\\nSummary Stats for year-over-year changes after imputation:\\n' + str(yoy_data_all_CRC_imputed.describe()))\n"
   ]
  },
  {
   "cell_type": "markdown",
   "id": "2b326900",
   "metadata": {},
   "source": [
    "Let's analyze the differences before and after imputing the missing values:\n",
    "\n",
    "### 1- Standard Deviation (std):\n",
    "Before Imputation: std for yoy_num is 0.153671, and for yoy_vol, it is 0.186864.\n",
    "\n",
    "After Imputation: std for yoy_num decreased slightly to 0.151774, and for yoy_vol, it decreased to 0.184557.\n",
    "\n",
    "\n",
    "### Interpretation:\n",
    "A decrease in the std suggest that the imputed values are closer to the central tnedency of the data, reducing the variability slightly. This is expected because the mean imputation tends to pull values towards the center.\n",
    "\n",
    "### 2- Percentiles (25%, 50%, 75%):\n",
    "The changes in the percentiles (especially the 50% or median) also suggest that the distribution has shifted slightly. Since the mean was used for imputation, the imputed values are less likely to be outliers, which smooths out the distribution.\n",
    "\n",
    "### Interpretation:\n",
    "The fact that these percentiles shifted, but not drastically, suggests that the missing data was not radically different from the existing data. However, it’s still a sign that the imputation had some impact on the distribution.\n",
    "\n",
    "### Final Decision:\n",
    "As this is a descriptive analysis, where we are primarily looking at trends and patterns, these changes might be less significant, therefore, we will proceed with the imputed data as the mean imputation didn't drastically alter the data.\n"
   ]
  },
  {
   "cell_type": "markdown",
   "id": "557b245d",
   "metadata": {},
   "source": [
    "### Converting date from object to datetime"
   ]
  },
  {
   "cell_type": "code",
   "execution_count": 6,
   "id": "5deb3d06",
   "metadata": {},
   "outputs": [
    {
     "name": "stdout",
     "output_type": "stream",
     "text": [
      "month                 int64\n",
      "date         datetime64[ns]\n",
      "num                 float64\n",
      "num_unadj             int64\n",
      "dtype: object \n",
      "\n",
      "month                 int64\n",
      "date         datetime64[ns]\n",
      "vol                 float64\n",
      "vol_unadj             int64\n",
      "dtype: object \n",
      "\n",
      "month               int64\n",
      "date       datetime64[ns]\n",
      "yoy_num           float64\n",
      "yoy_vol           float64\n",
      "dtype: object \n",
      "\n"
     ]
    }
   ],
   "source": [
    "# Merging dataframes that share the same column date\n",
    "#list of dataframes (dfs)\n",
    "dfs = [lending_number_cards_originated, lending_volume_cards_originated, yoy_data_all_CRC]\n",
    "\n",
    "for df in dfs:\n",
    "    if 'date' in df.columns:\n",
    "        df['date'] = pd.to_datetime(df['date'], errors='coerce')\n",
    "        \n",
    "#Verifying the conversion\n",
    "for df in dfs:\n",
    "    print(df.dtypes, '\\n')"
   ]
  },
  {
   "cell_type": "markdown",
   "id": "ca8d1a3f",
   "metadata": {},
   "source": [
    "# Analysis\n",
    "\n",
    "## Trend Analysis in Credit Card Origination:\n",
    "### Objective: \n",
    "- Identify trends in the number and volume of credit cards originated over time:\n",
    "Understanding these trends can help organizations gauge consumer demand for credit over time, which can inform their decision-making in structuring and pricing debt funding deals.\n",
    "\n",
    "## Approach:\n",
    "- We will perform a time-series analysis on both Lending Number Cards Originated and Lending Volume Cards Originated.\n",
    "- Highlight periods of significant growth or decline.\n",
    "- Examine seasonality, if any, and discuss potential external factors influencing these trends."
   ]
  },
  {
   "cell_type": "code",
   "execution_count": 19,
   "id": "37cbf788",
   "metadata": {},
   "outputs": [
    {
     "data": {
      "image/png": "[encoded data removed]",
      "text/plain": [
       "<Figure size 1008x504 with 1 Axes>"
      ]
     },
     "metadata": {
      "needs_background": "light"
     },
     "output_type": "display_data"
    },
    {
     "data": {
      "image/png": "[encoded data removed]",
      "text/plain": [
       "<Figure size 1008x504 with 1 Axes>"
      ]
     },
     "metadata": {
      "needs_background": "light"
     },
     "output_type": "display_data"
    }
   ],
   "source": [
    "import matplotlib.pyplot as plt\n",
    "import matplotlib.ticker as ticker\n",
    "\n",
    "# Formatter function for millions\n",
    "def millions(x, pos):\n",
    "    return '%1.0fM' % (x * 1e-7)\n",
    "\n",
    "# Formatter function for billions\n",
    "def billions(x, pos):\n",
    "    return '%1.0fB' % (x * 1e-10)\n",
    "\n",
    "\n",
    "# Resampling Data by Year\n",
    "num_by_year = lending_number_cards_originated.resample('Y', on='date')['num'].sum()\n",
    "vol_by_year = lending_volume_cards_originated.resample('Y', on='date')['vol'].sum()\n",
    "\n",
    "#Visualizing the trend in both the number and volume of credit cards originated\n",
    "plt.figure(figsize=(14,7))\n",
    "\n",
    "\n",
    "#Defining range of time\n",
    "start_date = pd.Timestamp('2010')\n",
    "end_date = pd.Timestamp('2019')\n",
    "\n",
    "\n",
    "#Visualzation for the trend in number of credit cards originated\n",
    "plt.subplot(2,1,1)\n",
    "plt.plot(num_by_year.index, num_by_year.values, marker='o', color='b', linestyle='-')\n",
    "plt.title('Trend in Number of Credit Cards Originated Over Time')\n",
    "plt.xlim([start_date, end_date])\n",
    "plt.ylabel('Number of Cards ($)')\n",
    "\n",
    "plt.grid(True)\n",
    "plt.gca().yaxis.set_major_formatter(ticker.FuncFormatter(millions))\n",
    "\n",
    "plt.tight_layout()\n",
    "plt.show()\n",
    "\n",
    "#Visualzation for the trend in volume of credit cards originated\n",
    "plt.figure(figsize=(14,7))\n",
    "plt.subplot(2,1,1)\n",
    "plt.plot(vol_by_year.index, vol_by_year.values, marker='o', color='g', linestyle='-')\n",
    "plt.title('Trend in volume of Credit Cards Originated Over Time')\n",
    "plt.xlim([start_date, end_date])\n",
    "plt.ylabel('Volume of cards')\n",
    "\n",
    "plt.grid(True)\n",
    "plt.gca().yaxis.set_major_formatter(ticker.FuncFormatter(billions))\n",
    "plt.tight_layout()\n",
    "plt.show()"
   ]
  },
  {
   "cell_type": "markdown",
   "id": "3742fee0",
   "metadata": {},
   "source": [
    "# Analysis \n",
    "\n",
    "## 1. Number of Credit Cards Originated Over Time (Top Graph)\n",
    "Trend Observation: The number of credit cards originated has shown a general upward trend from 2010 to 2017, with some minor fluctuations. The increase is steady, indicating a growing demand or a broader issuance of credit cards over the years.\n",
    "Significant Changes: Notable growth occurred between 2011 and 2012, followed by a steady increase. However, after peaking in 2017, there is a slight decline.\n",
    "\n",
    "Seasonality and External Factors: The smooth trend suggests minimal seasonal variation, though the peak in 2016 followed by a decline might hint at external factors like economic conditions, regulatory changes, or shifts in consumer behavior affecting credit card origination.\n",
    "\n",
    "## 2. Volume of Credit Cards Originated Over Time (Bottom Graph)\n",
    "Trend Observation: The volume of credit cards originated exhibits a more pronounced upward trend compared to the number of cards. This suggests not only an increase in the number of cards issued but also a significant rise in the credit limits or spending associated with these cards.\n",
    "\n",
    "Significant Changes: The growth is quite steady from 2010 to 2017, with a noticeable increase around 2011 to 2013, and a continued rise until a peak in 2017.\n",
    "\n",
    "Seasonality and External Factors: There is a clear upward trajectory, indicating a consistent increase in credit demand or supply. The peak in 2017 may correlate with economic factors such as increased consumer spending or more aggressive lending practices by financial institutions.\n",
    "\n",
    "\n",
    "## Conclusion:\n",
    "The trends in both the number and volume of credit cards originated suggest a growing credit card market over the period analyzed. The volume growing faster than the number of cards indicates that financial institutions may have been increasingly willing to extend higher credit limits, reflecting confidence in consumers' ability to repay or a competitive market environment. However, the slight decline in both metrics after 2017 suggests caution, possibly due to economic uncertainties or changes in credit policies."
   ]
  },
  {
   "cell_type": "markdown",
   "id": "8f576c45",
   "metadata": {},
   "source": [
    "# Analysis of Year-over-Year Growth Rates\n",
    "\n",
    "## Handling NaN Values in Year-over-Year Growth Calculation\n",
    "\n",
    "In this analysis, we are calculating the Year-over-Year (YoY) growth rates for the number and volume of credit cards originated. This calculation is critical for understanding trends over time. However, during the analysis, we encountered NaN (Not a Number) values, which need to be addressed to ensure accurate results.\n",
    "\n",
    "### Exploratory Data Analysis and Initial Cleaning\n",
    "\n",
    "Before calculating YoY growth rates, the data was cleaned through the following steps:\n",
    "\n",
    "- Checked for missing values in the original datasets.\n",
    "- Resampled the data by year to aggregate the number and volume of credit cards originated.\n",
    "- Initial cleaning confirmed that there were no missing values in the resampled data.\n",
    "\n",
    "The next step was to calculate the percentage change to determine YoY growth rates.\n",
    "\n",
    "### Calculation of YoY Growth Rates\n",
    "\n",
    "The Year-over-Year (YoY) growth rates were calculated using the percentage change (`pct_change()`) method. This method computes the percentage change from the previous value, which is essential for identifying trends over time.\n",
    "\n",
    "However, the `pct_change()` method introduces NaN values:\n",
    "\n",
    "- The first value in the series is always NaN because there is no prior data point for comparison.\n"
   ]
  },
  {
   "cell_type": "code",
   "execution_count": 14,
   "id": "3f5ac311",
   "metadata": {},
   "outputs": [
    {
     "name": "stdout",
     "output_type": "stream",
     "text": [
      "Checking for NaN values in yoy_growth_num: 1\n",
      "Checking for NaN values in yoy_growth_vol: 1\n"
     ]
    }
   ],
   "source": [
    "# Calculate YoY Growth Rates\n",
    "yoy_growth_num = num_by_year.pct_change() * 100\n",
    "yoy_growth_vol = vol_by_year.pct_change() * 100\n",
    "\n",
    "# Check for NaN values in YoY growth\n",
    "print('Checking for NaN values in yoy_growth_num:', yoy_growth_num.isnull().sum())\n",
    "print('Checking for NaN values in yoy_growth_vol:', yoy_growth_vol.isnull().sum())\n",
    "\n"
   ]
  },
  {
   "cell_type": "markdown",
   "id": "4eac60c7",
   "metadata": {},
   "source": [
    "### Handling NaN Values\n",
    "\n",
    "To address the NaN values in the YoY growth rates, the following approaches were considered:\n",
    "\n",
    "1. **Dropping NaN Values**: Removed the NaN values using `.dropna()` to ensure that only valid data is used for further analysis.\n",
    "\n",
    "    ```python\n",
    "    yoy_growth_num = yoy_growth_num.dropna()\n",
    "    yoy_growth_vol = yoy_growth_vol.dropna()\n",
    "    ```\n",
    "\n",
    "2. **Filling NaN Values**: Alternatively, NaN values could be filled using methods like forward fill (`fillna(method='ffill')`), but this approach was not used in this analysis.\n",
    "\n",
    "    ```python\n",
    "    yoy_growth_num = yoy_growth_num.fillna(method='ffill')\n",
    "    yoy_growth_vol = yoy_growth_vol.fillna(method='ffill')\n",
    "    ```\n",
    "\n",
    "For this project, the NaN values were dropped to maintain the integrity of the analysis.\n"
   ]
  },
  {
   "cell_type": "code",
   "execution_count": 23,
   "id": "46ded2cc",
   "metadata": {},
   "outputs": [
    {
     "name": "stdout",
     "output_type": "stream",
     "text": [
      "Checking for NaN values in yoy_growth_num: 0\n",
      "Checking for NaN values in yoy_growth_vol: 0\n"
     ]
    }
   ],
   "source": [
    "yoy_growth_num = yoy_growth_num.dropna()\n",
    "yoy_growth_vol = yoy_growth_vol.dropna()\n",
    "    \n",
    "# Check for NaN values in YoY growth after handling the missing values\n",
    "print('Checking for NaN values in yoy_growth_num:', yoy_growth_num.isnull().sum())\n",
    "print('Checking for NaN values in yoy_growth_vol:', yoy_growth_vol.isnull().sum())\n"
   ]
  },
  {
   "cell_type": "markdown",
   "id": "ffdc9ef5",
   "metadata": {},
   "source": [
    "### Impact of Handling NaN Values\n",
    "\n",
    "By dropping the NaN values, we ensure that the linear regression models used for trend analysis are fitted on complete data. This approach allows us to accurately assess the YoY growth trends without distortion caused by missing data.\n",
    "\n",
    "Moving forward, the clean data will be used for modeling and visualizations.\n"
   ]
  },
  {
   "cell_type": "code",
   "execution_count": 34,
   "id": "0bc1f26b",
   "metadata": {},
   "outputs": [
    {
     "data": {
      "image/png": "[encoded data removed]",
      "text/plain": [
       "<Figure size 1008x504 with 1 Axes>"
      ]
     },
     "metadata": {
      "needs_background": "light"
     },
     "output_type": "display_data"
    }
   ],
   "source": [
    "import matplotlib.pyplot as plt\n",
    "import pandas as pd\n",
    "from sklearn.linear_model import LinearRegression\n",
    "import numpy as np\n",
    "\n",
    "# Filter the YoY growth data to include only the years from 2010 to 2018\n",
    "yoy_growth_num_filtered = yoy_growth_num[(yoy_growth_num.index >= start_date) & (yoy_growth_num.index <= end_date)]\n",
    "yoy_growth_vol_filtered = yoy_growth_vol[(yoy_growth_vol.index >= start_date) & (yoy_growth_vol.index <= end_date)]\n",
    "\n",
    "# Fit the linear regression model for both number and volume\n",
    "years_num = np.array(range(len(yoy_growth_num_filtered.index))).reshape(-1, 1)\n",
    "years_vol = np.array(range(len(yoy_growth_vol_filtered.index))).reshape(-1, 1)\n",
    "\n",
    "model_num = LinearRegression().fit(years_num, yoy_growth_num_filtered.values)\n",
    "model_vol = LinearRegression().fit(years_vol, yoy_growth_vol_filtered.values)\n",
    "\n",
    "# Predict the trend line\n",
    "trend_line_num = model_num.predict(years_num)\n",
    "trend_line_vol = model_vol.predict(years_vol)\n",
    "\n",
    "# Plotting the results\n",
    "plt.figure(figsize=(14, 7))\n",
    "\n",
    "# Plot YoY Growth (Number)\n",
    "plt.plot(yoy_growth_num_filtered.index, yoy_growth_num_filtered.values, label='YoY Growth (Number)', marker='o')\n",
    "\n",
    "# Plot YoY Growth (Volume)\n",
    "plt.plot(yoy_growth_vol_filtered.index, yoy_growth_vol_filtered.values, label='YoY Growth (Volume)', marker='o')\n",
    "\n",
    "# Plot trend lines\n",
    "plt.plot(yoy_growth_num_filtered.index, trend_line_num, color='red', linestyle='--', label='Trend Line (Number)')\n",
    "plt.plot(yoy_growth_vol_filtered.index, trend_line_vol, color='blue', linestyle='--', label='Trend Line (Volume)')\n",
    "\n",
    "# Set x-axis limits to show the range from 2010 to 2018\n",
    "plt.xlim(start_date, end_date)\n",
    "\n",
    "# Adding titles and labels\n",
    "plt.xlabel('Year')\n",
    "plt.ylabel('YoY Growth (%)')\n",
    "plt.title('Year-over-Year Growth Rates from 2010 to 2018')\n",
    "\n",
    "# Adding a legend\n",
    "plt.legend()\n",
    "\n",
    "plt.show()\n",
    "\n"
   ]
  },
  {
   "cell_type": "code",
   "execution_count": null,
   "id": "5941b1cf",
   "metadata": {},
   "outputs": [],
   "source": []
  },
  {
   "cell_type": "code",
   "execution_count": null,
   "id": "83f5cf92",
   "metadata": {},
   "outputs": [],
   "source": []
  }
 ],
 "metadata": {
  "kernelspec": {
   "display_name": "Python 3 (ipykernel)",
   "language": "python",
   "name": "python3"
  },
  "language_info": {
   "codemirror_mode": {
    "name": "ipython",
    "version": 3
   },
   "file_extension": ".py",
   "mimetype": "text/x-python",
   "name": "python",
   "nbconvert_exporter": "python",
   "pygments_lexer": "ipython3",
   "version": "3.9.7"
  }
 },
 "nbformat": 4,
 "nbformat_minor": 5
}
